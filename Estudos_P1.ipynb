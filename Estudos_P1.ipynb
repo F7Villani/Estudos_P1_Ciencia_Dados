{
  "nbformat": 4,
  "nbformat_minor": 0,
  "metadata": {
    "colab": {
      "provenance": [],
      "toc_visible": true,
      "authorship_tag": "ABX9TyPigdlPKAII4eOnZ8fL+maP",
      "include_colab_link": true
    },
    "kernelspec": {
      "name": "python3",
      "display_name": "Python 3"
    },
    "language_info": {
      "name": "python"
    }
  },
  "cells": [
    {
      "cell_type": "markdown",
      "metadata": {
        "id": "view-in-github",
        "colab_type": "text"
      },
      "source": [
        "<a href=\"https://colab.research.google.com/github/F7Villani/Estudos_P1_Ciencia_Dados/blob/main/Estudos_P1.ipynb\" target=\"_parent\"><img src=\"https://colab.research.google.com/assets/colab-badge.svg\" alt=\"Open In Colab\"/></a>"
      ]
    },
    {
      "cell_type": "markdown",
      "source": [
        "# **Estudos para P1**"
      ],
      "metadata": {
        "id": "SxU10gye-E96"
      }
    },
    {
      "cell_type": "markdown",
      "source": [
        "## **Ciência de dados x Machine Learning x IA**\n",
        "\n",
        "---\n",
        "\n",
        "### **Definição**\n",
        "\n",
        "- **Ciência de Dados:** A Ciência de Dados é uma disciplina interdisciplinar que envolve a extração de conhecimento e insights a partir de grandes volumes de dados. Ela combina elementos de estatística, matemática, programação e domínio do assunto para coletar, organizar, analisar e interpretar dados, com o objetivo de resolver problemas e tomar decisões embasadas em evidências. A Ciência de Dados utiliza uma variedade de técnicas, como estatística, mineração de dados, aprendizado de máquina e visualização de dados.\n",
        "\n",
        "- **Machine Learning:** O Machine Learning (Aprendizado de Máquina) é uma subárea da Inteligência Artificial (IA) que se concentra no desenvolvimento de algoritmos e modelos que permitem que os computadores aprendam a partir dos dados, em vez de serem explicitamente programados para realizar tarefas específicas. Em vez de seguir instruções estritas, os modelos de Machine Learning são treinados com dados de entrada para reconhecer padrões, fazer previsões ou tomar decisões. Existem diferentes tipos de algoritmos de Machine Learning, como regressão, classificação, agrupamento e redes neurais.\n",
        "\n",
        "- **Inteligência Artificial (IA):** A Inteligência Artificial é um campo amplo que se concentra no desenvolvimento de sistemas computacionais capazes de executar tarefas que normalmente exigiriam inteligência humana. A IA busca replicar ou simular processos cognitivos, como aprendizado, raciocínio, percepção e tomada de decisão. Além do Machine Learning, a IA também engloba outras abordagens, como sistemas especialistas, lógica fuzzy, processamento de linguagem natural, visão computacional e robótica.\n",
        "\n",
        "### **Como se complementam**\n",
        "\n",
        "A Ciência de Dados utiliza técnicas e ferramentas para coletar, limpar, organizar e analisar grandes volumes de dados, com o objetivo de obter insights e conhecimentos acionáveis. Ela emprega métodos estatísticos e de mineração de dados para extrair padrões e relações nos dados. Nesse contexto, o Machine Learning é uma das principais abordagens utilizadas na Ciência de Dados para construir modelos que possam aprender a partir dos dados e fazer previsões ou classificações. O Machine Learning fornece algoritmos e técnicas para treinar esses modelos com dados de treinamento, ajustando seus parâmetros para otimizar o desempenho. A IA, por sua vez, é o campo mais amplo que engloba tanto a Ciência de Dados quanto o Machine Learning. Ela busca criar sistemas inteligentes e autônomos, capazes de aprender, raciocinar e tomar decisões em diferentes domínios.\n",
        "\n",
        "Em resumo, a Ciência de Dados é a disciplina que extrai insights dos dados, o Machine Learning é uma abordagem dentro da Ciência de Dados para construir modelos que aprendem com os dados e a IA engloba tanto a Ciência de Dados quanto o Machine Learning, buscando criar sistemas inteligentes. A interação entre esses campos permite soluções mais avançadas e sofisticadas para problemas complexos, impulsionando a automação, a tomada de decisões baseada"
      ],
      "metadata": {
        "id": "WH1fKGeEIMBD"
      }
    },
    {
      "cell_type": "markdown",
      "source": [
        "## **Análise de Dados Tradicional x Ciência de Dados**\n",
        "\n",
        "---\n",
        "\n",
        "- **Análise de Dados Tradicional:** A análise de dados tradicional tem suas raízes na estatística e na matemática aplicada. Ela é geralmente caracterizada pelo uso de métodos estatísticos clássicos, como testes de hipóteses, análise de variância e regressão linear. Na análise de dados tradicional, o foco é muitas vezes em amostras representativas e em inferências estatísticas sobre uma população maior. As técnicas utilizadas são geralmente aplicadas a conjuntos de dados estruturados e bem definidos, e os resultados são frequentemente expressos em termos de significância estatística.\n",
        "\n",
        "- **Ciência de Dados:** A ciência de dados é uma abordagem mais recente e mais abrangente para lidar com dados. Ela combina elementos da estatística, matemática, programação e conhecimento do domínio para extrair conhecimento e insights a partir de dados. A ciência de dados vai além das técnicas estatísticas tradicionais e inclui a aplicação de métodos de mineração de dados, aprendizado de máquina e visualização de dados. Ela se concentra na coleta, organização, limpeza e análise de grandes volumes de dados, incluindo dados não estruturados, como texto, imagens e vídeos.\n",
        "\n",
        "- **Semelhanças:** Tanto a análise de dados tradicional quanto a ciência de dados têm como objetivo extrair informações úteis dos dados e embasar a tomada de decisões. Ambas envolvem a manipulação e análise de conjuntos de dados, utilizando técnicas estatísticas e matemáticas para obter insights. Ambas também requerem um bom entendimento do domínio do problema para interpretar corretamente os resultados e tirar conclusões relevantes.\n",
        "\n",
        "- **Diferenças:** A principal diferença entre a análise de dados tradicional e a ciência de dados reside no escopo e nas ferramentas utilizadas. A análise de dados tradicional tende a ser mais voltada para testes estatísticos e inferências sobre uma população maior com base em amostras representativas. Ela é frequentemente aplicada a conjuntos de dados estruturados e utiliza métodos estatísticos clássicos. Por outro lado, a ciência de dados lida com a análise de grandes volumes de dados, incluindo dados não estruturados, utilizando técnicas mais avançadas, como mineração de dados e aprendizado de máquina. A ciência de dados também enfatiza a importância da programação e do conhecimento de ferramentas e bibliotecas específicas, como Python, R, Pandas, Scikit-Learn, TensorFlow, entre outras.\n",
        "\n",
        "<br>\n",
        "\n",
        "|  | Ciência de Dados | Análise Tradicional |\n",
        "| --- | --- | --- |\n",
        "| Tipo de Dados | Não estruturados | Estruturados (linhas e colunas) |\n",
        "| Volume de Dados | Big Data (centenas de Terabytes) | Dezenas de Terabytes ou menos |\n",
        "| Fluxo de Dados | Contínuo, Big Data | Estático |\n",
        "| Métodos de Análise | Machine Learning | Visual, Hypothesis-Based |\n",
        "| Propósito | Data-base Products | Internal Support Decision |"
      ],
      "metadata": {
        "id": "1MCjd_EKH6Zw"
      }
    },
    {
      "cell_type": "markdown",
      "source": [
        "## **CRISP-DM: Standard Process for Data Mining**\n",
        "\n",
        "---\n",
        "\n",
        "CRISP-DM (Cross-Industry Standard Process for Data Mining) é um processo padrão amplamente utilizado na área de mineração de dados e análise de dados. Ele fornece uma estrutura para guiar as etapas de um projeto de ciência de dados e tem seis fases distintas.\n",
        "\n",
        "1. **Entendimento do Negócio:** Nesta fase, o objetivo é compreender os objetivos do negócio e os requisitos do projeto. É importante identificar as questões que precisam ser respondidas com base nos dados e definir critérios de sucesso claros. Isso envolve interações com as partes interessadas para entender seus objetivos e expectativas, além de estabelecer metas mensuráveis. Essa fase é fundamental para orientar todo o processo de análise de dados, garantindo que as análises sejam direcionadas para as necessidades do negócio.\n",
        "\n",
        "2. **Entendimento dos Dados:** Nessa fase, o foco é coletar os dados relevantes para o projeto e compreender sua natureza. Isso envolve explorar as fontes de dados disponíveis, identificar as características dos dados, suas estruturas e formatos. É importante entender a qualidade dos dados, avaliar se estão completos, consistentes e livres de erros. Além disso, é necessário investigar as relações entre as diferentes variáveis e identificar potenciais problemas ou limitações dos dados. Essa fase é fundamental para obter uma visão detalhada dos dados com os quais se está trabalhando.\n",
        "\n",
        "3. **Preparação dos Dados:** Nesta fase, os dados são preparados para a análise. Isso envolve limpar os dados, realizar transformações e integrar diferentes fontes de dados, se necessário. É comum lidar com valores ausentes, outliers e dados inconsistentes, que precisam ser tratados adequadamente. Além disso, podem ser aplicadas técnicas de seleção de variáveis para identificar as mais relevantes para o projeto. Essa fase é essencial para garantir que os dados estejam em um formato adequado e de qualidade para a análise subsequente.\n",
        "\n",
        "4. **Modelagem:** Aqui ocorre a aplicação de modelos estatísticos ou de aprendizado de máquina aos dados preparados. Os modelos são selecionados com base nas questões do negócio e nas características dos dados. Eles são treinados e ajustados utilizando técnicas apropriadas, como regressão linear, árvores de decisão, redes neurais, entre outros. Nesta fase, é importante avaliar e comparar diferentes modelos para selecionar aquele que melhor se ajusta aos dados e às metas do projeto. A modelagem é o cerne da análise de dados, pois busca extrair padrões, relacionamentos e previsões a partir dos dados.\n",
        "\n",
        "5. **Avaliação:** Nessa fase, os modelos desenvolvidos são avaliados em relação aos critérios estabelecidos no início do projeto. Eles são testados em dados de validação ou em um conjunto separado de dados para medir sua precisão, desempenho e robustez. É importante avaliar se os modelos atendem aos requisitos do projeto e se são capazes de fornecer insights úteis para a tomada de decisões. Caso os resultados não sejam satisfatórios, é possível revisar e ajustar os modelos, retornando às fases anteriores do processo.\n",
        "\n",
        "6. **Implantação:** A última fase envolve a implantação do modelo escolhido em um ambiente de produção. Isso pode incluir a criação de um sistema automatizado para aplicar o modelo em tempo real, a geração de relatórios interativos ou a integração do modelo em um produto ou serviço existente. É importante garantir que o modelo seja implementado corretamente, considerando questões de escalabilidade, segurança e monitoramento contínuo do desempenho do modelo implantado. Essa fase visa extrair valor dos resultados da análise e garantir que eles sejam efetivamente utilizados para melhorar processos e tomar decisões informadas.\n",
        "\n",
        "Essas fases são iterativas e interdependentes, permitindo que os profissionais de ciência de dados revisem e ajustem as etapas conforme necessário ao longo do processo. Isso permite um fluxo contínuo de aprendizado e melhoria, garantindo que os resultados finais atendam aos objetivos e requisitos do negócio."
      ],
      "metadata": {
        "id": "J4-w0kmZMbA_"
      }
    },
    {
      "cell_type": "markdown",
      "source": [
        "## **Pandas**\n",
        "\n",
        "---"
      ],
      "metadata": {
        "id": "q_1D6n6yRDXG"
      }
    },
    {
      "cell_type": "code",
      "source": [
        "import pandas as pd"
      ],
      "metadata": {
        "id": "vYmiJiz0MaNU"
      },
      "execution_count": 2,
      "outputs": []
    },
    {
      "cell_type": "markdown",
      "source": [
        "### **Seleção de Dados**"
      ],
      "metadata": {
        "id": "z8dOy2ehW9yp"
      }
    },
    {
      "cell_type": "code",
      "source": [
        "# DataFrame de exemplo\n",
        "df = pd.DataFrame({'coluna1': [1, 2, 3],\n",
        "                   'coluna2': ['a', 'b', 'c'],\n",
        "                   'coluna3': [4.5, 6.7, 8.1]})\n",
        "\n",
        "# Selecionando linhas e colunas com base em rótulos\n",
        "print(df.loc[0:1, 'coluna2':'coluna3'])\n",
        "\n",
        "# Selecionando linhas e colunas com base em índices\n",
        "print(df.iloc[1:, 0:1])\n",
        "\n",
        "# Selecionando linhas com base em mais de uma condição booleana\n",
        "print(df[(df['coluna1'] > 1) | (df['coluna1'] < 3)])\n",
        "\n"
      ],
      "metadata": {
        "colab": {
          "base_uri": "https://localhost:8080/"
        },
        "id": "MtqnRPBGTYq3",
        "outputId": "d049896e-3cd5-4201-d621-1bcd819fb07a"
      },
      "execution_count": 3,
      "outputs": [
        {
          "output_type": "stream",
          "name": "stdout",
          "text": [
            "  coluna2  coluna3\n",
            "0       a      4.5\n",
            "1       b      6.7\n",
            "   coluna1\n",
            "1        2\n",
            "2        3\n",
            "   coluna1 coluna2  coluna3\n",
            "0        1       a      4.5\n",
            "1        2       b      6.7\n",
            "2        3       c      8.1\n"
          ]
        }
      ]
    },
    {
      "cell_type": "markdown",
      "source": [
        "### **Group by**"
      ],
      "metadata": {
        "id": "V3R3dpvnX3h1"
      }
    },
    {
      "cell_type": "code",
      "source": [
        "# DataFrame de exemplo\n",
        "df = pd.DataFrame({'Grupo1': ['A', 'A', 'B', 'B', 'C', 'C'],\n",
        "                   'Grupo2': ['D', 'A', 'D', 'B', 'A', 'B'],\n",
        "                   'Valor1': [10, 20, 30, 40, 50, 60],\n",
        "                   'Valor2': [100, 200, 300, 400, 500, 600]})\n",
        "\n",
        "# Aplicando uma função de agregação por valores únicos da coluna 'coluna1'\n",
        "print(df.groupby('Grupo1')['Valor1'].mean())\n",
        "\n",
        "# Aplicando uma função de agregação agrupando por múltiplas colunas\n",
        "print(df.groupby(['Grupo1', 'Grupo2'])['Valor2'].sum())\n",
        "\n",
        "# Aplicando várias funções de agregação em colunas diferentes\n",
        "resultado = df.groupby('Grupo1').agg({'Valor1': 'sum', 'Valor2': ['mean', 'max']})\n",
        "\n",
        "print(resultado)\n",
        "\n",
        "# Função personalizada de agregação\n",
        "def soma_quadrados(x):\n",
        "    return (x ** 2).sum()\n",
        "\n",
        "# Aplicando a função personalizada de agregação\n",
        "resultado = df.groupby('Grupo1')['Valor1'].agg(soma_quadrados)"
      ],
      "metadata": {
        "colab": {
          "base_uri": "https://localhost:8080/"
        },
        "id": "wZpxwnQ-X2WY",
        "outputId": "3c25418f-722a-48f7-c0e3-96e956f8baca"
      },
      "execution_count": 4,
      "outputs": [
        {
          "output_type": "stream",
          "name": "stdout",
          "text": [
            "Grupo1\n",
            "A    15.0\n",
            "B    35.0\n",
            "C    55.0\n",
            "Name: Valor1, dtype: float64\n",
            "Grupo1  Grupo2\n",
            "A       A         200\n",
            "        D         100\n",
            "B       B         400\n",
            "        D         300\n",
            "C       A         500\n",
            "        B         600\n",
            "Name: Valor2, dtype: int64\n",
            "       Valor1 Valor2     \n",
            "          sum   mean  max\n",
            "Grupo1                   \n",
            "A          30  150.0  200\n",
            "B          70  350.0  400\n",
            "C         110  550.0  600\n"
          ]
        }
      ]
    },
    {
      "cell_type": "markdown",
      "source": [
        "### **Join**"
      ],
      "metadata": {
        "id": "L1Q-eUA58UFP"
      }
    },
    {
      "cell_type": "code",
      "source": [
        "# DataFrames de exemplo\n",
        "df1 = pd.DataFrame({'coluna1': [1, 2, 3],\n",
        "                    'coluna2': ['a', 'b', 'c']})\n",
        "\n",
        "df2 = pd.DataFrame({'coluna1': [2, 3, 4],\n",
        "                    'coluna3': [4.5, 6.7, 8.1]})\n",
        "\n",
        "# Combinando os DataFrames com base em uma coluna em comum\n",
        "merged_df = df1.merge(df2, on='coluna1')\n",
        "print(merged_df)\n",
        "\n",
        "# DataFrames de exemplo\n",
        "df1 = pd.DataFrame({'Chave1': ['A', 'B', 'C'],\n",
        "                    'Chave2': [1, 2, 3],\n",
        "                    'Valor1': [10, 20, 30]})\n",
        "\n",
        "df2 = pd.DataFrame({'Chave1': ['A', 'B', 'D'],\n",
        "                    'Chave2': [1, 2, 4],\n",
        "                    'Valor2': [100, 200, 400]})\n",
        "\n",
        "# Join com múltiplas colunas de chave\n",
        "resultado = df1.merge(df2, on=['Chave1', 'Chave2'], how='inner')\n",
        "\n",
        "print(resultado)\n",
        "\n"
      ],
      "metadata": {
        "colab": {
          "base_uri": "https://localhost:8080/"
        },
        "id": "YCiTBdSI8XYy",
        "outputId": "4366339b-d7bf-4ee9-b5ad-6a541429f724"
      },
      "execution_count": 5,
      "outputs": [
        {
          "output_type": "stream",
          "name": "stdout",
          "text": [
            "   coluna1 coluna2  coluna3\n",
            "0        2       b      4.5\n",
            "1        3       c      6.7\n",
            "  Chave1  Chave2  Valor1  Valor2\n",
            "0      A       1      10     100\n",
            "1      B       2      20     200\n"
          ]
        }
      ]
    },
    {
      "cell_type": "markdown",
      "source": [
        "### **Transformação de Valores**\n",
        "\n",
        "1. Label Encoding e One-Hot Encoding:\n",
        "\n",
        "  - Label Encoding é usado para converter valores categóricos em valores numéricos. Cada categoria é mapeada para um valor inteiro.\n",
        "  - One-Hot Encoding é usado para criar variáveis binárias a partir de valores categóricos. Cada categoria é transformada em uma coluna separada, onde 1 indica a presença da categoria e 0 indica a ausência.\n",
        "\n",
        "2. Multicolinearidade:\n",
        "\n",
        "  - A multicolinearidade ocorre quando duas ou mais variáveis independentes em um modelo de regressão estão altamente correlacionadas.\n",
        "  - Ao aplicar o Label Encoding ou One-Hot Encoding, é importante tomar cuidado com a multicolinearidade. Em alguns casos, pode ser necessário excluir uma das colunas codificadas para evitar esse problema.\n",
        "\n",
        "3. Criação de novos valores:\n",
        "\n",
        "  - O Pandas permite criar novas colunas com base em operações matemáticas nos dados existentes.\n",
        "Você pode criar uma nova coluna que é o produto, soma, média ou normalização (por exemplo, usando o método min-max scaling para transformar valores para uma faixa específica, como [0, 1]) de uma ou mais colunas existentes.\n",
        "Essas transformações podem ajudar a capturar informações adicionais ou preparar os dados para análises e modelagem."
      ],
      "metadata": {
        "id": "GsomIzwf-stk"
      }
    },
    {
      "cell_type": "code",
      "source": [
        "# DataFrame de exemplo\n",
        "df = pd.DataFrame({'Categórico': ['A', 'B', 'A', 'C', 'B']})\n",
        "\n",
        "# Aplicar o Label Encoding usando a função factorize()\n",
        "df['LabelEncoded'] = pd.factorize(df['Categórico'])[0]\n",
        "\n",
        "print(df)\n",
        "\n",
        "# One-Hot Encoding\n",
        "onehot_columns = pd.get_dummies(df['Categórico'], prefix='OneHot')\n",
        "df = pd.concat([df, onehot_columns], axis=1)\n",
        "\n",
        "print(df)"
      ],
      "metadata": {
        "id": "GPsMRjFfARfu",
        "colab": {
          "base_uri": "https://localhost:8080/"
        },
        "outputId": "78a2a2bd-232c-4463-ed2c-fcb020c48a1a"
      },
      "execution_count": 6,
      "outputs": [
        {
          "output_type": "stream",
          "name": "stdout",
          "text": [
            "  Categórico  LabelEncoded\n",
            "0          A             0\n",
            "1          B             1\n",
            "2          A             0\n",
            "3          C             2\n",
            "4          B             1\n",
            "  Categórico  LabelEncoded  OneHot_A  OneHot_B  OneHot_C\n",
            "0          A             0         1         0         0\n",
            "1          B             1         0         1         0\n",
            "2          A             0         1         0         0\n",
            "3          C             2         0         0         1\n",
            "4          B             1         0         1         0\n"
          ]
        }
      ]
    },
    {
      "cell_type": "code",
      "source": [
        "# DataFrame de exemplo\n",
        "df = pd.DataFrame({'Valor1': [10, 20, 30],\n",
        "                   'Valor2': [5, 8, 12]})\n",
        "\n",
        "# Criar nova coluna com os valores normalizados de Valor1 usando Min-Max Scaling\n",
        "min_value = df['Valor1'].min()\n",
        "max_value = df['Valor1'].max()\n",
        "df['Normalizado'] = (df['Valor1'] - min_value) / (max_value - min_value)\n",
        "\n",
        "print(df)\n"
      ],
      "metadata": {
        "colab": {
          "base_uri": "https://localhost:8080/"
        },
        "id": "iFL_vdtwE53a",
        "outputId": "6729fe1c-5c00-4c63-acaf-0e9f77cefe76"
      },
      "execution_count": 7,
      "outputs": [
        {
          "output_type": "stream",
          "name": "stdout",
          "text": [
            "   Valor1  Valor2  Normalizado\n",
            "0      10       5          0.0\n",
            "1      20       8          0.5\n",
            "2      30      12          1.0\n"
          ]
        }
      ]
    },
    {
      "cell_type": "markdown",
      "source": [
        "## **Visualização de Dados**"
      ],
      "metadata": {
        "id": "S4pqVOzwFO1W"
      }
    },
    {
      "cell_type": "markdown",
      "source": [
        "### MatplotLib"
      ],
      "metadata": {
        "id": "jwWghB5wKMGB"
      }
    },
    {
      "cell_type": "code",
      "source": [
        "import matplotlib.pyplot as plt\n",
        "import numpy as np"
      ],
      "metadata": {
        "id": "1Iwe1PDJFOI4"
      },
      "execution_count": 8,
      "outputs": []
    },
    {
      "cell_type": "code",
      "source": [
        "x = np.arange(-10,10,.1)\n",
        "y = np.tanh(x)\n",
        "\n",
        "fig = plt.figure(figsize=(6,4))\n",
        "\n",
        "plt.title(\"Tanh(x)\")\n",
        "plt.plot(x, y, color='red', marker='.', label = \"tanh(x)\")\n",
        "plt.xlabel(\"x\")\n",
        "plt.ylabel(\"tanh(x)\")\n",
        "plt.legend()\n",
        "\n",
        "plt.show()"
      ],
      "metadata": {
        "colab": {
          "base_uri": "https://localhost:8080/",
          "height": 410
        },
        "id": "cWBb7I5SGOtN",
        "outputId": "870c25ad-c5de-43de-aec5-06d12c2a8f36"
      },
      "execution_count": 9,
      "outputs": [
        {
          "output_type": "display_data",
          "data": {
            "text/plain": [
              "<Figure size 600x400 with 1 Axes>"
            ],
            "image/png": "[encoded data removed]"
          },
          "metadata": {}
        }
      ]
    },
    {
      "cell_type": "code",
      "source": [
        "from scipy.stats import norm\n",
        "\n",
        "# Dados\n",
        "x = np.random.randn(1000)  # Amostra aleatória de dados\n",
        "\n",
        "# Plotagem do histograma\n",
        "plt.hist(x, bins=30, density=True, alpha=0.7, edgecolor='black')\n",
        "\n",
        "# Cálculo dos parâmetros da distribuição normal\n",
        "mu, std = np.mean(x), np.std(x)\n",
        "\n",
        "# Faixa de valores para a curva normal\n",
        "x_range = np.linspace(mu - 3*std, mu + 3*std, 100)\n",
        "\n",
        "# Plotagem da curva normal\n",
        "plt.plot(x_range, norm.pdf(x_range, mu, std), color='red', linewidth=2)\n",
        "\n",
        "# Configurações do gráfico\n",
        "plt.title('Histograma com Curva Normal')\n",
        "plt.xlabel('Valores')\n",
        "plt.ylabel('Densidade')\n",
        "\n",
        "# Exibição do gráfico\n",
        "plt.show()\n"
      ],
      "metadata": {
        "colab": {
          "base_uri": "https://localhost:8080/",
          "height": 472
        },
        "id": "ogPPxeFFN_aO",
        "outputId": "04dcf5b6-2f89-4d66-8a39-80b6d51462cb"
      },
      "execution_count": 10,
      "outputs": [
        {
          "output_type": "display_data",
          "data": {
            "text/plain": [
              "<Figure size 640x480 with 1 Axes>"
            ],
            "image/png": "[encoded data removed]"
          },
          "metadata": {}
        }
      ]
    },
    {
      "cell_type": "code",
      "source": [
        "# Dados\n",
        "x = np.array([1, 2, 3, 4, 5])\n",
        "y = np.array([2, 4, 6, 8, 10])\n",
        "\n",
        "# Ajuste de linha de tendência\n",
        "coefficients = np.polyfit(x, y, 1)  # Ajuste de uma linha de tendência de grau 1 (uma reta)\n",
        "trendline = np.polyval(coefficients, x)\n",
        "\n",
        "# Plotagem dos dados e da linha de tendência\n",
        "plt.plot(x, y, 'o', label='Dados')  # Pontos de dados\n",
        "plt.plot(x, trendline, label='Linha de Tendência')  # Linha de tendência\n",
        "\n",
        "# Configurações do gráfico\n",
        "plt.title('Gráfico de Tendência')\n",
        "plt.xlabel('Eixo X')\n",
        "plt.ylabel('Eixo Y')\n",
        "plt.legend()\n",
        "\n",
        "plt.show()\n"
      ],
      "metadata": {
        "id": "K2kSQygQN7gF"
      },
      "execution_count": null,
      "outputs": []
    },
    {
      "cell_type": "code",
      "source": [
        "fig = plt.figure(figsize=(12,12))\n",
        "\n",
        "for i in range(6):\n",
        "  print(i)\n",
        "  x = np.arange(-10,10,.1)\n",
        "  y = np.tanh(x)\n",
        "\n",
        "  plt.subplot(3,2, i+1)\n",
        "\n",
        "  plt.title(\"Tanh(x)\")\n",
        "  plt.plot(x, y, color='red', marker='.', label = \"tanh(x)\")\n",
        "  plt.xlabel(\"x\")\n",
        "  plt.ylabel(\"tanh(x)\")\n",
        "  plt.legend()\n",
        "\n",
        "plt.show()"
      ],
      "metadata": {
        "id": "ZbxMyJ4dpRgM"
      },
      "execution_count": null,
      "outputs": []
    },
    {
      "cell_type": "markdown",
      "source": [
        "### **Seaborn**"
      ],
      "metadata": {
        "id": "UH-4Rl19m_V2"
      }
    },
    {
      "cell_type": "code",
      "source": [
        "import seaborn as sns\n",
        "\n",
        "# DataFrame de exemplo\n",
        "data = {\n",
        "    'Variavel1': [1, 2, 3, 4, 5],\n",
        "    'Variavel2': [2, 4, 6, 8, 10],\n",
        "    'Variavel3': [3, 6, 9, 12, 15],\n",
        "    'Variavel4': [4, 8, 12, 16, 20]\n",
        "}\n",
        "df = pd.DataFrame(data)\n",
        "\n",
        "# Plotagem do pairplot\n",
        "sns.pairplot(df)\n",
        "\n",
        "# Exibição do gráfico\n",
        "plt.show()\n"
      ],
      "metadata": {
        "id": "4Tlf0zxMOqr4"
      },
      "execution_count": null,
      "outputs": []
    },
    {
      "cell_type": "markdown",
      "source": [
        "## **Aprendizado de Máquina Supervisionado**"
      ],
      "metadata": {
        "id": "I9IlkWASqoRk"
      }
    },
    {
      "cell_type": "markdown",
      "source": [
        "### Machine Learning: um novo paradigma\n",
        "\n",
        "Machine Learning, ou Aprendizado de Máquina, é um campo da Inteligência Artificial que se concentra no desenvolvimento de algoritmos e modelos capazes de aprender e fazer previsões ou tomar decisões a partir de dados. É considerado um novo paradigma, pois difere da programação tradicional, em que as instruções são explicitamente fornecidas ao sistema. No Machine Learning, os algoritmos são projetados para aprender a partir dos dados, identificando padrões e relações, e utilizar esse conhecimento para fazer previsões ou tomar decisões em novos dados."
      ],
      "metadata": {
        "id": "sdHv2cdXqzy-"
      }
    },
    {
      "cell_type": "markdown",
      "source": [
        "### Aprendizado Supervisionado, não Supervisionado e de Reforço\n",
        "\n",
        "- Aprendizado Supervisionado: Nesse tipo de aprendizado, o modelo é treinado usando um conjunto de dados rotulados, ou seja, dados em que já se conhece a resposta correta. O objetivo é fazer com que o modelo aprenda a mapear os dados de entrada para as saídas desejadas. Os algoritmos de Aprendizado Supervisionado incluem tarefas como Classificação, Regressão e Detecção de Anomalias.\n",
        "\n",
        "- Aprendizado não Supervisionado: Nesse tipo de aprendizado, o modelo é treinado em um conjunto de dados não rotulados, ou seja, dados em que não há uma resposta correta conhecida. O objetivo é explorar a estrutura e os padrões nos dados, identificando agrupamentos, similaridades, anomalias ou reduzindo a dimensionalidade dos dados. Alguns algoritmos de Aprendizado não Supervisionado incluem Agrupamento (Clustering), Análise de Componentes Principais (PCA) e Associação de Regras.\n",
        "\n",
        "- Aprendizado de Reforço: Nesse tipo de aprendizado, o modelo aprende através de interações com um ambiente dinâmico. O objetivo é tomar ações que maximizem uma recompensa numérica, que é recebida após cada interação. O modelo aprende a tomar decisões sequenciais, aprendendo com as consequências das ações tomadas. Algoritmos de Aprendizado de Reforço são comumente usados em jogos, robótica e otimização de processos."
      ],
      "metadata": {
        "id": "YLBvpKd3ra01"
      }
    },
    {
      "cell_type": "markdown",
      "source": [
        "### Esquema geral do Aprendizado de Máquina Supervisionado\n",
        "\n",
        "- **Coleta de dados:** O primeiro passo é coletar um conjunto de dados rotulados, em que as entradas (features) e as saídas (rótulos) estão disponíveis.\n",
        "\n",
        "- **Pré-processamento de dados:** Os dados coletados podem conter ruídos, valores faltantes ou discrepâncias que precisam ser tratados antes de alimentar o modelo de Aprendizado de Máquina. Nessa etapa, realiza-se limpeza de dados, normalização, tratamento de valores faltantes, entre outros procedimentos.\n",
        "\n",
        "- **Separação de dados:** Os dados coletados são divididos em conjuntos de treinamento e teste. O conjunto de treinamento é usado para treinar o modelo, enquanto o conjunto de teste é usado para avaliar o desempenho do modelo em dados não vistos anteriormente.\n",
        "\n",
        "- **Escolha do algoritmo/modelo:** Com base na tarefa de Aprendizado Supervisionado (Classificação ou Regressão), seleciona-se um algoritmo ou modelo apropriado para o problema em questão. Existem vários algoritmos disponíveis, como Árvores de Decisão, Naive Bayes, Regressão Linear, SVM, Redes Neurais, entre outros.\n",
        "\n",
        "- **Treinamento do modelo:** Nessa etapa, o algoritmo ou modelo é treinado usando o conjunto de treinamento. O modelo aprende a relação entre as entradas e as saídas desejadas, ajustando seus parâmetros internos para minimizar o erro ou maximizar a precisão.\n",
        "\n",
        "- **Avaliação do modelo:** Após o treinamento, o modelo é avaliado usando o conjunto de teste. Medidas de desempenho, como acurácia, precisão, recall ou erro médio quadrático, são calculadas para avaliar o quão bem o modelo está generalizando para novos dados.\n",
        "\n",
        "- **Previsões/Inferência:** Com o modelo treinado e avaliado, ele está pronto para fazer previsões ou inferências em novos dados não vistos anteriormente. O modelo recebe as entradas e retorna as saídas previstas."
      ],
      "metadata": {
        "id": "9XnfrY61rq9Y"
      }
    },
    {
      "cell_type": "markdown",
      "source": [
        "## **Regressão Linear**\n",
        "### Utilizando o StatsModel\n"
      ],
      "metadata": {
        "id": "cF2BuIxCsdxw"
      }
    },
    {
      "cell_type": "code",
      "source": [
        "np.random.seed(1)\n",
        "df = pd.DataFrame()\n",
        "\n",
        "df['temperature'] = np.arange(0,45,1)\n",
        "df['chirps'] = (20 * df['temperature'] - 4) / 16\n",
        "df['chirps'] = df['chirps'] + np.round(np.random.sample(len(df))*5,0)\n",
        "\n",
        "df.head()"
      ],
      "metadata": {
        "colab": {
          "base_uri": "https://localhost:8080/",
          "height": 206
        },
        "id": "aZPo1qzis7_U",
        "outputId": "35066823-0ec9-4e0e-ed70-175d8f7aa990"
      },
      "execution_count": 19,
      "outputs": [
        {
          "output_type": "execute_result",
          "data": {
            "text/plain": [
              "   temperature  chirps\n",
              "0            0    1.75\n",
              "1            1    5.00\n",
              "2            2    2.25\n",
              "3            3    5.50\n",
              "4            4    5.75"
            ],
            "text/html": [
              "\n",
              "  <div id=\"df-573a9ac1-3f3a-4f4f-a331-33e7dbc32650\">\n",
              "    <div class=\"colab-df-container\">\n",
              "      <div>\n",
              "<style scoped>\n",
              "    .dataframe tbody tr th:only-of-type {\n",
              "        vertical-align: middle;\n",
              "    }\n",
              "\n",
              "    .dataframe tbody tr th {\n",
              "        vertical-align: top;\n",
              "    }\n",
              "\n",
              "    .dataframe thead th {\n",
              "        text-align: right;\n",
              "    }\n",
              "</style>\n",
              "<table border=\"1\" class=\"dataframe\">\n",
              "  <thead>\n",
              "    <tr style=\"text-align: right;\">\n",
              "      <th></th>\n",
              "      <th>temperature</th>\n",
              "      <th>chirps</th>\n",
              "    </tr>\n",
              "  </thead>\n",
              "  <tbody>\n",
              "    <tr>\n",
              "      <th>0</th>\n",
              "      <td>0</td>\n",
              "      <td>1.75</td>\n",
              "    </tr>\n",
              "    <tr>\n",
              "      <th>1</th>\n",
              "      <td>1</td>\n",
              "      <td>5.00</td>\n",
              "    </tr>\n",
              "    <tr>\n",
              "      <th>2</th>\n",
              "      <td>2</td>\n",
              "      <td>2.25</td>\n",
              "    </tr>\n",
              "    <tr>\n",
              "      <th>3</th>\n",
              "      <td>3</td>\n",
              "      <td>5.50</td>\n",
              "    </tr>\n",
              "    <tr>\n",
              "      <th>4</th>\n",
              "      <td>4</td>\n",
              "      <td>5.75</td>\n",
              "    </tr>\n",
              "  </tbody>\n",
              "</table>\n",
              "</div>\n",
              "      <button class=\"colab-df-convert\" onclick=\"convertToInteractive('df-573a9ac1-3f3a-4f4f-a331-33e7dbc32650')\"\n",
              "              title=\"Convert this dataframe to an interactive table.\"\n",
              "              style=\"display:none;\">\n",
              "        \n",
              "  <svg xmlns=\"http://www.w3.org/2000/svg\" height=\"24px\"viewBox=\"0 0 24 24\"\n",
              "       width=\"24px\">\n",
              "    <path d=\"M0 0h24v24H0V0z\" fill=\"none\"/>\n",
              "    <path d=\"M18.56 5.44l.94 2.06.94-2.06 2.06-.94-2.06-.94-.94-2.06-.94 2.06-2.06.94zm-11 1L8.5 8.5l.94-2.06 2.06-.94-2.06-.94L8.5 2.5l-.94 2.06-2.06.94zm10 10l.94 2.06.94-2.06 2.06-.94-2.06-.94-.94-2.06-.94 2.06-2.06.94z\"/><path d=\"M17.41 7.96l-1.37-1.37c-.4-.4-.92-.59-1.43-.59-.52 0-1.04.2-1.43.59L10.3 9.45l-7.72 7.72c-.78.78-.78 2.05 0 2.83L4 21.41c.39.39.9.59 1.41.59.51 0 1.02-.2 1.41-.59l7.78-7.78 2.81-2.81c.8-.78.8-2.07 0-2.86zM5.41 20L4 18.59l7.72-7.72 1.47 1.35L5.41 20z\"/>\n",
              "  </svg>\n",
              "      </button>\n",
              "      \n",
              "  <style>\n",
              "    .colab-df-container {\n",
              "      display:flex;\n",
              "      flex-wrap:wrap;\n",
              "      gap: 12px;\n",
              "    }\n",
              "\n",
              "    .colab-df-convert {\n",
              "      background-color: #E8F0FE;\n",
              "      border: none;\n",
              "      border-radius: 50%;\n",
              "      cursor: pointer;\n",
              "      display: none;\n",
              "      fill: #1967D2;\n",
              "      height: 32px;\n",
              "      padding: 0 0 0 0;\n",
              "      width: 32px;\n",
              "    }\n",
              "\n",
              "    .colab-df-convert:hover {\n",
              "      background-color: #E2EBFA;\n",
              "      box-shadow: 0px 1px 2px rgba(60, 64, 67, 0.3), 0px 1px 3px 1px rgba(60, 64, 67, 0.15);\n",
              "      fill: #174EA6;\n",
              "    }\n",
              "\n",
              "    [theme=dark] .colab-df-convert {\n",
              "      background-color: #3B4455;\n",
              "      fill: #D2E3FC;\n",
              "    }\n",
              "\n",
              "    [theme=dark] .colab-df-convert:hover {\n",
              "      background-color: #434B5C;\n",
              "      box-shadow: 0px 1px 3px 1px rgba(0, 0, 0, 0.15);\n",
              "      filter: drop-shadow(0px 1px 2px rgba(0, 0, 0, 0.3));\n",
              "      fill: #FFFFFF;\n",
              "    }\n",
              "  </style>\n",
              "\n",
              "      <script>\n",
              "        const buttonEl =\n",
              "          document.querySelector('#df-573a9ac1-3f3a-4f4f-a331-33e7dbc32650 button.colab-df-convert');\n",
              "        buttonEl.style.display =\n",
              "          google.colab.kernel.accessAllowed ? 'block' : 'none';\n",
              "\n",
              "        async function convertToInteractive(key) {\n",
              "          const element = document.querySelector('#df-573a9ac1-3f3a-4f4f-a331-33e7dbc32650');\n",
              "          const dataTable =\n",
              "            await google.colab.kernel.invokeFunction('convertToInteractive',\n",
              "                                                     [key], {});\n",
              "          if (!dataTable) return;\n",
              "\n",
              "          const docLinkHtml = 'Like what you see? Visit the ' +\n",
              "            '<a target=\"_blank\" href=https://colab.research.google.com/notebooks/data_table.ipynb>data table notebook</a>'\n",
              "            + ' to learn more about interactive tables.';\n",
              "          element.innerHTML = '';\n",
              "          dataTable['output_type'] = 'display_data';\n",
              "          await google.colab.output.renderOutput(dataTable, element);\n",
              "          const docLink = document.createElement('div');\n",
              "          docLink.innerHTML = docLinkHtml;\n",
              "          element.appendChild(docLink);\n",
              "        }\n",
              "      </script>\n",
              "    </div>\n",
              "  </div>\n",
              "  "
            ]
          },
          "metadata": {},
          "execution_count": 19
        }
      ]
    },
    {
      "cell_type": "code",
      "source": [
        "import statsmodels.formula.api as sm\n",
        "\n",
        "# Definição do modelo\n",
        "lm = sm.ols(formula='temperature ~ chirps', data=df)\n",
        "\n",
        "# Treinamento\n",
        "lm = lm.fit()\n",
        "\n",
        "# Resultados\n",
        "print(lm.summary())\n"
      ],
      "metadata": {
        "colab": {
          "base_uri": "https://localhost:8080/"
        },
        "id": "gxCoT2x3rZ6k",
        "outputId": "6713472c-2839-4fa8-afeb-91b1635d5013"
      },
      "execution_count": 20,
      "outputs": [
        {
          "output_type": "stream",
          "name": "stdout",
          "text": [
            "                            OLS Regression Results                            \n",
            "==============================================================================\n",
            "Dep. Variable:            temperature   R-squared:                       0.992\n",
            "Model:                            OLS   Adj. R-squared:                  0.992\n",
            "Method:                 Least Squares   F-statistic:                     5334.\n",
            "Date:                Mon, 19 Jun 2023   Prob (F-statistic):           9.94e-47\n",
            "Time:                        22:10:47   Log-Likelihood:                -70.585\n",
            "No. Observations:                  45   AIC:                             145.2\n",
            "Df Residuals:                      43   BIC:                             148.8\n",
            "Df Model:                           1                                         \n",
            "Covariance Type:            nonrobust                                         \n",
            "==============================================================================\n",
            "                 coef    std err          t      P>|t|      [0.025      0.975]\n",
            "------------------------------------------------------------------------------\n",
            "Intercept     -0.9595      0.361     -2.659      0.011      -1.687      -0.232\n",
            "chirps         0.7761      0.011     73.034      0.000       0.755       0.798\n",
            "==============================================================================\n",
            "Omnibus:                        3.593   Durbin-Watson:                   2.175\n",
            "Prob(Omnibus):                  0.166   Jarque-Bera (JB):                1.946\n",
            "Skew:                           0.230   Prob(JB):                        0.378\n",
            "Kurtosis:                       2.091   Cond. No.                         69.2\n",
            "==============================================================================\n",
            "\n",
            "Notes:\n",
            "[1] Standard Errors assume that the covariance matrix of the errors is correctly specified.\n"
          ]
        }
      ]
    },
    {
      "cell_type": "code",
      "source": [
        "gorjeio_observado = pd.DataFrame({'chirps': [32]})\n",
        "temp_estimada = lm.predict(gorjeio_observado)[0]\n",
        "print(temp_estimada)"
      ],
      "metadata": {
        "colab": {
          "base_uri": "https://localhost:8080/"
        },
        "id": "833mjr81tfee",
        "outputId": "0436251b-fbd8-41bb-af6c-d5f7f634b356"
      },
      "execution_count": 28,
      "outputs": [
        {
          "output_type": "stream",
          "name": "stdout",
          "text": [
            "23.87556706632134\n"
          ]
        }
      ]
    },
    {
      "cell_type": "code",
      "source": [
        "lm.pvalues"
      ],
      "metadata": {
        "colab": {
          "base_uri": "https://localhost:8080/"
        },
        "id": "6CtSLeHc-uG-",
        "outputId": "5a405d94-898f-4134-94f0-a0f2c2b69e8e"
      },
      "execution_count": 29,
      "outputs": [
        {
          "output_type": "execute_result",
          "data": {
            "text/plain": [
              "Intercept    1.095724e-02\n",
              "chirps       9.939203e-47\n",
              "dtype: float64"
            ]
          },
          "metadata": {},
          "execution_count": 29
        }
      ]
    },
    {
      "cell_type": "markdown",
      "source": [
        "## **Regressão Logística**"
      ],
      "metadata": {
        "id": "Sqo2suHwtOVa"
      }
    },
    {
      "cell_type": "code",
      "source": [
        "df = pd.read_csv('http://meusite.mackenzie.br/rogerio/TIC/breast-cancer-wisconsin.csv')\n",
        "df = df[['diagnosis', 'radius_mean', 'texture_mean', 'perimeter_mean']] # vamos empregar apenas uma parte dos dados\n",
        "df.head()"
      ],
      "metadata": {
        "colab": {
          "base_uri": "https://localhost:8080/",
          "height": 206
        },
        "id": "BwcfTCDDtR2H",
        "outputId": "cb0af954-b103-41d4-966f-515117afb6fe"
      },
      "execution_count": 30,
      "outputs": [
        {
          "output_type": "execute_result",
          "data": {
            "text/plain": [
              "  diagnosis  radius_mean  texture_mean  perimeter_mean\n",
              "0         M        17.99         10.38          122.80\n",
              "1         M        20.57         17.77          132.90\n",
              "2         M        19.69         21.25          130.00\n",
              "3         M        11.42         20.38           77.58\n",
              "4         M        20.29         14.34          135.10"
            ],
            "text/html": [
              "\n",
              "  <div id=\"df-f5d8f752-12d3-4679-bec8-30f584139fda\">\n",
              "    <div class=\"colab-df-container\">\n",
              "      <div>\n",
              "<style scoped>\n",
              "    .dataframe tbody tr th:only-of-type {\n",
              "        vertical-align: middle;\n",
              "    }\n",
              "\n",
              "    .dataframe tbody tr th {\n",
              "        vertical-align: top;\n",
              "    }\n",
              "\n",
              "    .dataframe thead th {\n",
              "        text-align: right;\n",
              "    }\n",
              "</style>\n",
              "<table border=\"1\" class=\"dataframe\">\n",
              "  <thead>\n",
              "    <tr style=\"text-align: right;\">\n",
              "      <th></th>\n",
              "      <th>diagnosis</th>\n",
              "      <th>radius_mean</th>\n",
              "      <th>texture_mean</th>\n",
              "      <th>perimeter_mean</th>\n",
              "    </tr>\n",
              "  </thead>\n",
              "  <tbody>\n",
              "    <tr>\n",
              "      <th>0</th>\n",
              "      <td>M</td>\n",
              "      <td>17.99</td>\n",
              "      <td>10.38</td>\n",
              "      <td>122.80</td>\n",
              "    </tr>\n",
              "    <tr>\n",
              "      <th>1</th>\n",
              "      <td>M</td>\n",
              "      <td>20.57</td>\n",
              "      <td>17.77</td>\n",
              "      <td>132.90</td>\n",
              "    </tr>\n",
              "    <tr>\n",
              "      <th>2</th>\n",
              "      <td>M</td>\n",
              "      <td>19.69</td>\n",
              "      <td>21.25</td>\n",
              "      <td>130.00</td>\n",
              "    </tr>\n",
              "    <tr>\n",
              "      <th>3</th>\n",
              "      <td>M</td>\n",
              "      <td>11.42</td>\n",
              "      <td>20.38</td>\n",
              "      <td>77.58</td>\n",
              "    </tr>\n",
              "    <tr>\n",
              "      <th>4</th>\n",
              "      <td>M</td>\n",
              "      <td>20.29</td>\n",
              "      <td>14.34</td>\n",
              "      <td>135.10</td>\n",
              "    </tr>\n",
              "  </tbody>\n",
              "</table>\n",
              "</div>\n",
              "      <button class=\"colab-df-convert\" onclick=\"convertToInteractive('df-f5d8f752-12d3-4679-bec8-30f584139fda')\"\n",
              "              title=\"Convert this dataframe to an interactive table.\"\n",
              "              style=\"display:none;\">\n",
              "        \n",
              "  <svg xmlns=\"http://www.w3.org/2000/svg\" height=\"24px\"viewBox=\"0 0 24 24\"\n",
              "       width=\"24px\">\n",
              "    <path d=\"M0 0h24v24H0V0z\" fill=\"none\"/>\n",
              "    <path d=\"M18.56 5.44l.94 2.06.94-2.06 2.06-.94-2.06-.94-.94-2.06-.94 2.06-2.06.94zm-11 1L8.5 8.5l.94-2.06 2.06-.94-2.06-.94L8.5 2.5l-.94 2.06-2.06.94zm10 10l.94 2.06.94-2.06 2.06-.94-2.06-.94-.94-2.06-.94 2.06-2.06.94z\"/><path d=\"M17.41 7.96l-1.37-1.37c-.4-.4-.92-.59-1.43-.59-.52 0-1.04.2-1.43.59L10.3 9.45l-7.72 7.72c-.78.78-.78 2.05 0 2.83L4 21.41c.39.39.9.59 1.41.59.51 0 1.02-.2 1.41-.59l7.78-7.78 2.81-2.81c.8-.78.8-2.07 0-2.86zM5.41 20L4 18.59l7.72-7.72 1.47 1.35L5.41 20z\"/>\n",
              "  </svg>\n",
              "      </button>\n",
              "      \n",
              "  <style>\n",
              "    .colab-df-container {\n",
              "      display:flex;\n",
              "      flex-wrap:wrap;\n",
              "      gap: 12px;\n",
              "    }\n",
              "\n",
              "    .colab-df-convert {\n",
              "      background-color: #E8F0FE;\n",
              "      border: none;\n",
              "      border-radius: 50%;\n",
              "      cursor: pointer;\n",
              "      display: none;\n",
              "      fill: #1967D2;\n",
              "      height: 32px;\n",
              "      padding: 0 0 0 0;\n",
              "      width: 32px;\n",
              "    }\n",
              "\n",
              "    .colab-df-convert:hover {\n",
              "      background-color: #E2EBFA;\n",
              "      box-shadow: 0px 1px 2px rgba(60, 64, 67, 0.3), 0px 1px 3px 1px rgba(60, 64, 67, 0.15);\n",
              "      fill: #174EA6;\n",
              "    }\n",
              "\n",
              "    [theme=dark] .colab-df-convert {\n",
              "      background-color: #3B4455;\n",
              "      fill: #D2E3FC;\n",
              "    }\n",
              "\n",
              "    [theme=dark] .colab-df-convert:hover {\n",
              "      background-color: #434B5C;\n",
              "      box-shadow: 0px 1px 3px 1px rgba(0, 0, 0, 0.15);\n",
              "      filter: drop-shadow(0px 1px 2px rgba(0, 0, 0, 0.3));\n",
              "      fill: #FFFFFF;\n",
              "    }\n",
              "  </style>\n",
              "\n",
              "      <script>\n",
              "        const buttonEl =\n",
              "          document.querySelector('#df-f5d8f752-12d3-4679-bec8-30f584139fda button.colab-df-convert');\n",
              "        buttonEl.style.display =\n",
              "          google.colab.kernel.accessAllowed ? 'block' : 'none';\n",
              "\n",
              "        async function convertToInteractive(key) {\n",
              "          const element = document.querySelector('#df-f5d8f752-12d3-4679-bec8-30f584139fda');\n",
              "          const dataTable =\n",
              "            await google.colab.kernel.invokeFunction('convertToInteractive',\n",
              "                                                     [key], {});\n",
              "          if (!dataTable) return;\n",
              "\n",
              "          const docLinkHtml = 'Like what you see? Visit the ' +\n",
              "            '<a target=\"_blank\" href=https://colab.research.google.com/notebooks/data_table.ipynb>data table notebook</a>'\n",
              "            + ' to learn more about interactive tables.';\n",
              "          element.innerHTML = '';\n",
              "          dataTable['output_type'] = 'display_data';\n",
              "          await google.colab.output.renderOutput(dataTable, element);\n",
              "          const docLink = document.createElement('div');\n",
              "          docLink.innerHTML = docLinkHtml;\n",
              "          element.appendChild(docLink);\n",
              "        }\n",
              "      </script>\n",
              "    </div>\n",
              "  </div>\n",
              "  "
            ]
          },
          "metadata": {},
          "execution_count": 30
        }
      ]
    },
    {
      "cell_type": "code",
      "source": [
        "from sklearn.linear_model import LogisticRegression\n",
        "from sklearn.model_selection import train_test_split\n",
        "\n",
        "# Entradas e Saídas\n",
        "X = df[['radius_mean', 'texture_mean', 'perimeter_mean']]\n",
        "y = df['diagnosis']\n",
        "\n",
        "# Definindo dados de treinamento e teste\n",
        "X_train, X_test, y_train, y_test = train_test_split(X, y, stratify=y, test_size=0.2, random_state=42)\n",
        "\n",
        "# Definição\n",
        "clf = LogisticRegression()\n",
        "\n",
        "# Treinamento\n",
        "clf.fit(X_train,y_train)\n",
        "\n",
        "# Avaliação\n",
        "y_pred = clf.predict(X_test)\n",
        "\n",
        "# Acuracidade\n",
        "print(clf.score(X_test, y_test))\n",
        "#print(sum(y_pred == y_test) / len(y_test))"
      ],
      "metadata": {
        "colab": {
          "base_uri": "https://localhost:8080/"
        },
        "id": "cm2w6T6wH5Nw",
        "outputId": "57609b46-85e3-42e0-ae66-af5ff610a02d"
      },
      "execution_count": 42,
      "outputs": [
        {
          "output_type": "stream",
          "name": "stdout",
          "text": [
            "0.8947368421052632\n",
            "0.8947368421052632\n"
          ]
        }
      ]
    },
    {
      "cell_type": "markdown",
      "source": [
        "## **K-Vizinhos Mais Próximos**"
      ],
      "metadata": {
        "id": "xQdMQYDBJazf"
      }
    },
    {
      "cell_type": "code",
      "source": [
        "import pandas as pd\n",
        "from sklearn.neighbors import KNeighborsClassifier\n",
        "from sklearn.model_selection import train_test_split\n",
        "from sklearn.metrics import accuracy_score, precision_score, recall_score, f1_score\n",
        "\n",
        "# DataFrame de exemplo\n",
        "data = pd.DataFrame({'Feature1': [2.0, 4.0, 1.0, 6.0, 3.0],\n",
        "                     'Feature2': [3.0, 5.0, 1.0, 5.0, 3.0],\n",
        "                     'Class': [0, 0, 1, 1, 0]})\n",
        "\n",
        "# Separar os dados em features (X) e classe alvo (y)\n",
        "X = data[['Feature1', 'Feature2']]\n",
        "y = data['Class']\n",
        "\n",
        "# Dividir os dados em conjunto de treinamento e teste\n",
        "X_train, X_test, y_train, y_test = train_test_split(X, y, test_size=0.2, random_state=42)\n",
        "\n",
        "# Criar o modelo KNN com k=3\n",
        "knn = KNeighborsClassifier(n_neighbors=3)\n",
        "\n",
        "# Treinar o modelo\n",
        "knn.fit(X_train, y_train)\n",
        "\n",
        "# Fazer previsões para os dados de teste\n",
        "y_pred = knn.predict(X_test)\n",
        "\n",
        "# Calcular as métricas\n",
        "accuracy = accuracy_score(y_test, y_pred)\n",
        "precision = precision_score(y_test, y_pred)\n",
        "recall = recall_score(y_test, y_pred)\n",
        "f1 = f1_score(y_test, y_pred)\n",
        "\n",
        "print(\"Acurácia:\", accuracy)\n",
        "print(\"Precisão:\", precision)\n",
        "print(\"Recall:\", recall)\n",
        "print(\"F1-score:\", f1)\n"
      ],
      "metadata": {
        "colab": {
          "base_uri": "https://localhost:8080/"
        },
        "id": "lp66DWv5JjTY",
        "outputId": "a5eb6d61-759e-4e28-a602-ad15fbf4443b"
      },
      "execution_count": 43,
      "outputs": [
        {
          "output_type": "stream",
          "name": "stdout",
          "text": [
            "Acurácia: 1.0\n",
            "Precisão: 0.0\n",
            "Recall: 0.0\n",
            "F1-score: 0.0\n"
          ]
        },
        {
          "output_type": "stream",
          "name": "stderr",
          "text": [
            "/usr/local/lib/python3.10/dist-packages/sklearn/metrics/_classification.py:1344: UndefinedMetricWarning: Precision is ill-defined and being set to 0.0 due to no predicted samples. Use `zero_division` parameter to control this behavior.\n",
            "  _warn_prf(average, modifier, msg_start, len(result))\n",
            "/usr/local/lib/python3.10/dist-packages/sklearn/metrics/_classification.py:1344: UndefinedMetricWarning: Recall is ill-defined and being set to 0.0 due to no true samples. Use `zero_division` parameter to control this behavior.\n",
            "  _warn_prf(average, modifier, msg_start, len(result))\n",
            "/usr/local/lib/python3.10/dist-packages/sklearn/metrics/_classification.py:1609: UndefinedMetricWarning: F-score is ill-defined and being set to 0.0 due to no true nor predicted samples. Use `zero_division` parameter to control this behavior.\n",
            "  _warn_prf(average, \"true nor predicted\", \"F-score is\", len(true_sum))\n"
          ]
        }
      ]
    }
  ]
}